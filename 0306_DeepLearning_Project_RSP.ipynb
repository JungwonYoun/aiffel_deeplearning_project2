{
 "cells": [
  {
   "cell_type": "markdown",
   "id": "76aa8119",
   "metadata": {},
   "source": [
    "## 1. 라이브러리 Import"
   ]
  },
  {
   "cell_type": "code",
   "execution_count": 9,
   "id": "d733827e",
   "metadata": {},
   "outputs": [],
   "source": [
    "from PIL import Image\n",
    "import numpy as np\n",
    "import glob\n",
    "import os"
   ]
  },
  {
   "cell_type": "code",
   "execution_count": 13,
   "id": "ecb549fd",
   "metadata": {},
   "outputs": [
    {
     "name": "stdout",
     "output_type": "stream",
     "text": [
      "2.6.0\n",
      "1.22.2\n"
     ]
    }
   ],
   "source": [
    "import tensorflow as tf\n",
    "import numpy as np\n",
    "\n",
    "print(tf.__version__)\n",
    "print(np.__version__)"
   ]
  },
  {
   "cell_type": "markdown",
   "id": "c02b3865",
   "metadata": {},
   "source": [
    "## 2. 데이터 resize"
   ]
  },
  {
   "cell_type": "code",
   "execution_count": 48,
   "id": "65edf78b",
   "metadata": {},
   "outputs": [
    {
     "name": "stdout",
     "output_type": "stream",
     "text": [
      "265  images to be resized.\n",
      "265  images resized.\n",
      "가위 이미지 resize 완료!\n"
     ]
    }
   ],
   "source": [
    "len_sum = 0\n",
    "def resize_images(img_path):\n",
    "    global len_sum\n",
    "    images=glob.glob(img_path + \"/*.jpg\")  \n",
    "    \n",
    "    print(len(images), \" images to be resized.\")\n",
    "    # 파일마다 모두 28x28 사이즈로 바꾸어 저장합니다.\n",
    "    target_size=(32,32)\n",
    "    for img in images:\n",
    "        old_img=Image.open(img)\n",
    "        new_img=old_img.resize(target_size,Image.ANTIALIAS)\n",
    "        new_img.save(img, \"JPEG\")\n",
    "    \n",
    "    print(len(images), \" images resized.\")\n",
    "    len_sum += len(images)\n",
    "\n",
    "# 가위 이미지가 저장된 디렉토리 아래의 모든 jpg 파일을 읽어들여서\n",
    "image_dir_path = os.getenv(\"HOME\") + \"/aiffel/rock_scissor_paper/scissor\"\n",
    "resize_images(image_dir_path)\n",
    "\n",
    "print(\"가위 이미지 resize 완료!\")"
   ]
  },
  {
   "cell_type": "code",
   "execution_count": 49,
   "id": "4ba39f31",
   "metadata": {},
   "outputs": [
    {
     "name": "stdout",
     "output_type": "stream",
     "text": [
      "284  images to be resized.\n",
      "284  images resized.\n",
      "바위 이미지 resize 완료!\n"
     ]
    }
   ],
   "source": [
    "image_dir_path = os.getenv(\"HOME\") + \"/aiffel/rock_scissor_paper/rock\"\n",
    "\n",
    "resize_images(image_dir_path)\n",
    "\n",
    "print(\"바위 이미지 resize 완료!\")"
   ]
  },
  {
   "cell_type": "code",
   "execution_count": 51,
   "id": "3dad1c43",
   "metadata": {},
   "outputs": [
    {
     "name": "stdout",
     "output_type": "stream",
     "text": [
      "286  images to be resized.\n",
      "286  images resized.\n",
      "보 이미지 resize 완료!\n"
     ]
    }
   ],
   "source": [
    "image_dir_path = os.getenv(\"HOME\") + \"/aiffel/rock_scissor_paper/paper\"\n",
    "\n",
    "resize_images(image_dir_path)\n",
    "\n",
    "print(\"보 이미지 resize 완료!\")"
   ]
  },
  {
   "cell_type": "code",
   "execution_count": 52,
   "id": "f8b350e7",
   "metadata": {},
   "outputs": [
    {
     "data": {
      "text/plain": [
       "1121"
      ]
     },
     "execution_count": 52,
     "metadata": {},
     "output_type": "execute_result"
    }
   ],
   "source": [
    "len_sum"
   ]
  },
  {
   "cell_type": "markdown",
   "id": "8c6bbe41",
   "metadata": {},
   "source": [
    "## 2-1. 이미지 데이터 이름 정리\n",
    "- 데이터를 합친 경우, 이미지의 이름이 섞여있어서 이를 정리해줍니다."
   ]
  },
  {
   "cell_type": "code",
   "execution_count": 12,
   "id": "f1de9288",
   "metadata": {},
   "outputs": [],
   "source": [
    "def rename_files(folder_path):\n",
    "    origin = folder_path\n",
    "    for target in [\"rock\", \"scissor\", \"paper\"]:\n",
    "        folder_path = os.path.join(origin, target)\n",
    "        \n",
    "        # 폴더 내의 모든 파일 가져오기\n",
    "        files = os.listdir(folder_path)\n",
    "        jpg_files = [file for file in files if file.endswith('.jpg')]\n",
    "\n",
    "        # 순서대로 파일 이름 변경\n",
    "        for i, file_name in enumerate(jpg_files):\n",
    "            new_name = str(i+1) + '.jpg'\n",
    "            os.rename(os.path.join(folder_path, file_name), os.path.join(folder_path, new_name))\n",
    "\n",
    "# 폴더 경로 지정\n",
    "folder_path = os.getenv(\"HOME\") + \"/aiffel/rock_scissor_paper\"\n",
    "rename_files(folder_path)"
   ]
  },
  {
   "cell_type": "code",
   "execution_count": 53,
   "id": "2c35e78e",
   "metadata": {},
   "outputs": [
    {
     "name": "stdout",
     "output_type": "stream",
     "text": [
      "학습데이터(x_train)의 이미지 개수는 835 입니다.\n",
      "x_train shape: (1121, 32, 32, 3)\n",
      "y_train shape: (1121,)\n"
     ]
    }
   ],
   "source": [
    "import numpy as np\n",
    "\n",
    "def load_data(img_path, number_of_data=len_sum):  # 가위바위보 이미지 개수 총합에 주의하세요.\n",
    "    # 가위 : 0, 바위 : 1, 보 : 2\n",
    "    img_size=32\n",
    "    color=3\n",
    "    #이미지 데이터와 라벨(가위 : 0, 바위 : 1, 보 : 2) 데이터를 담을 행렬(matrix) 영역을 생성합니다.\n",
    "    imgs=np.zeros(number_of_data*img_size*img_size*color,dtype=np.int32).reshape(number_of_data,img_size,img_size,color)\n",
    "    labels=np.zeros(number_of_data,dtype=np.int32)\n",
    "\n",
    "    idx=0\n",
    "    for file in glob.iglob(img_path+'/scissor/*.jpg'):\n",
    "        img = np.array(Image.open(file),dtype=np.int32)\n",
    "        imgs[idx,:,:,:]=img    # 데이터 영역에 이미지 행렬을 복사\n",
    "        labels[idx]=0   # 가위 : 0 \n",
    "        idx=idx+1\n",
    "\n",
    "    for file in glob.iglob(img_path+'/rock/*.jpg'):\n",
    "        img = np.array(Image.open(file),dtype=np.int32)\n",
    "        imgs[idx,:,:,:]=img    # 데이터 영역에 이미지 행렬을 복사\n",
    "        labels[idx]=1   # 바위 : 1\n",
    "        idx=idx+1  \n",
    "    \n",
    "    for file in glob.iglob(img_path+'/paper/*.jpg'):\n",
    "        img = np.array(Image.open(file),dtype=np.int32)\n",
    "        imgs[idx,:,:,:]=img    # 데이터 영역에 이미지 행렬을 복사\n",
    "        labels[idx]=2   # 보 : 2\n",
    "        idx=idx+1\n",
    "        \n",
    "    print(\"학습데이터(x_train)의 이미지 개수는\", idx,\"입니다.\")\n",
    "    return imgs, labels\n",
    "\n",
    "image_dir_path = os.getenv(\"HOME\") + \"/aiffel/rock_scissor_paper\"\n",
    "(x_train, y_train)=load_data(image_dir_path)\n",
    "x_train_norm = x_train/255.0   # 입력은 0~1 사이의 값으로 정규화\n",
    "\n",
    "print(\"x_train shape: {}\".format(x_train.shape))\n",
    "print(\"y_train shape: {}\".format(y_train.shape))"
   ]
  },
  {
   "cell_type": "code",
   "execution_count": 54,
   "id": "4ca32512",
   "metadata": {},
   "outputs": [
    {
     "name": "stdout",
     "output_type": "stream",
     "text": [
      "라벨:  0\n"
     ]
    },
    {
     "data": {
      "image/png": "[encoded data removed]",
      "text/plain": [
       "<Figure size 432x288 with 1 Axes>"
      ]
     },
     "metadata": {
      "needs_background": "light"
     },
     "output_type": "display_data"
    }
   ],
   "source": [
    "import matplotlib.pyplot as plt\n",
    "\n",
    "plt.imshow(x_train[0])\n",
    "print('라벨: ', y_train[0])"
   ]
  },
  {
   "cell_type": "markdown",
   "id": "322c1f60",
   "metadata": {},
   "source": [
    "## 3. 모델 구축 및 학습"
   ]
  },
  {
   "cell_type": "code",
   "execution_count": 55,
   "id": "d309caf1",
   "metadata": {},
   "outputs": [
    {
     "name": "stdout",
     "output_type": "stream",
     "text": [
      "Model: \"sequential_1\"\n",
      "_________________________________________________________________\n",
      "Layer (type)                 Output Shape              Param #   \n",
      "=================================================================\n",
      "conv2d_3 (Conv2D)            (None, 30, 30, 32)        896       \n",
      "_________________________________________________________________\n",
      "max_pooling2d_3 (MaxPooling2 (None, 15, 15, 32)        0         \n",
      "_________________________________________________________________\n",
      "conv2d_4 (Conv2D)            (None, 13, 13, 64)        18496     \n",
      "_________________________________________________________________\n",
      "max_pooling2d_4 (MaxPooling2 (None, 6, 6, 64)          0         \n",
      "_________________________________________________________________\n",
      "conv2d_5 (Conv2D)            (None, 4, 4, 128)         73856     \n",
      "_________________________________________________________________\n",
      "max_pooling2d_5 (MaxPooling2 (None, 2, 2, 128)         0         \n",
      "_________________________________________________________________\n",
      "flatten_4 (Flatten)          (None, 512)               0         \n",
      "_________________________________________________________________\n",
      "dropout_5 (Dropout)          (None, 512)               0         \n",
      "_________________________________________________________________\n",
      "dense_9 (Dense)              (None, 512)               262656    \n",
      "_________________________________________________________________\n",
      "dropout_6 (Dropout)          (None, 512)               0         \n",
      "_________________________________________________________________\n",
      "dense_10 (Dense)             (None, 256)               131328    \n",
      "_________________________________________________________________\n",
      "dense_11 (Dense)             (None, 3)                 771       \n",
      "=================================================================\n",
      "Total params: 488,003\n",
      "Trainable params: 488,003\n",
      "Non-trainable params: 0\n",
      "_________________________________________________________________\n"
     ]
    }
   ],
   "source": [
    "import tensorflow as tf\n",
    "from tensorflow import keras\n",
    "import numpy as np\n",
    "\n",
    "model = keras.models.Sequential([\n",
    "    keras.layers.Conv2D(32, (3, 3), activation='relu', input_shape=(32, 32, 3)),\n",
    "    keras.layers.MaxPooling2D(2, 2),\n",
    "    keras.layers.Conv2D(64, (3, 3), activation='relu'),\n",
    "    keras.layers.MaxPooling2D(2, 2),\n",
    "    keras.layers.Conv2D(128, (3, 3), activation='relu'),\n",
    "    keras.layers.MaxPooling2D(2, 2),\n",
    "    keras.layers.Flatten(),\n",
    "    keras.layers.Dropout(0.5),\n",
    "    keras.layers.Dense(512, activation='relu'),\n",
    "    keras.layers.Dropout(0.5),\n",
    "    keras.layers.Dense(256, activation='relu'),\n",
    "    keras.layers.Dense(3, activation='softmax')\n",
    "])\n",
    "\n",
    "model.summary()"
   ]
  },
  {
   "cell_type": "code",
   "execution_count": 56,
   "id": "12513eec",
   "metadata": {
    "scrolled": false
   },
   "outputs": [
    {
     "name": "stdout",
     "output_type": "stream",
     "text": [
      "Epoch 1/30\n",
      "36/36 [==============================] - 3s 57ms/step - loss: 4.1769 - accuracy: 0.5272\n",
      "Epoch 2/30\n",
      "36/36 [==============================] - 2s 54ms/step - loss: 0.7996 - accuracy: 0.5950\n",
      "Epoch 3/30\n",
      "36/36 [==============================] - 2s 56ms/step - loss: 0.7433 - accuracy: 0.6414\n",
      "Epoch 4/30\n",
      "36/36 [==============================] - 2s 54ms/step - loss: 0.6871 - accuracy: 0.6735\n",
      "Epoch 5/30\n",
      "36/36 [==============================] - 2s 55ms/step - loss: 0.7087 - accuracy: 0.6521\n",
      "Epoch 6/30\n",
      "36/36 [==============================] - 2s 54ms/step - loss: 0.6017 - accuracy: 0.7351\n",
      "Epoch 7/30\n",
      "36/36 [==============================] - 2s 55ms/step - loss: 0.5490 - accuracy: 0.7538\n",
      "Epoch 8/30\n",
      "36/36 [==============================] - 2s 57ms/step - loss: 0.4694 - accuracy: 0.7904\n",
      "Epoch 9/30\n",
      "36/36 [==============================] - 2s 53ms/step - loss: 0.4239 - accuracy: 0.8225\n",
      "Epoch 10/30\n",
      "36/36 [==============================] - 2s 54ms/step - loss: 0.5482 - accuracy: 0.7422\n",
      "Epoch 11/30\n",
      "36/36 [==============================] - 2s 53ms/step - loss: 0.5480 - accuracy: 0.7431\n",
      "Epoch 12/30\n",
      "36/36 [==============================] - 2s 54ms/step - loss: 0.4130 - accuracy: 0.8145\n",
      "Epoch 13/30\n",
      "36/36 [==============================] - 2s 56ms/step - loss: 0.3340 - accuracy: 0.8599\n",
      "Epoch 14/30\n",
      "36/36 [==============================] - 2s 54ms/step - loss: 0.3659 - accuracy: 0.8510\n",
      "Epoch 15/30\n",
      "36/36 [==============================] - 2s 54ms/step - loss: 0.8182 - accuracy: 0.7038\n",
      "Epoch 16/30\n",
      "36/36 [==============================] - 2s 54ms/step - loss: 0.5005 - accuracy: 0.7725\n",
      "Epoch 17/30\n",
      "36/36 [==============================] - 2s 54ms/step - loss: 0.3664 - accuracy: 0.8412\n",
      "Epoch 18/30\n",
      "36/36 [==============================] - 2s 56ms/step - loss: 0.3420 - accuracy: 0.8537\n",
      "Epoch 19/30\n",
      "36/36 [==============================] - 2s 53ms/step - loss: 0.2904 - accuracy: 0.8805\n",
      "Epoch 20/30\n",
      "36/36 [==============================] - 2s 54ms/step - loss: 0.2921 - accuracy: 0.8840\n",
      "Epoch 21/30\n",
      "36/36 [==============================] - 2s 54ms/step - loss: 0.3982 - accuracy: 0.8457\n",
      "Epoch 22/30\n",
      "36/36 [==============================] - 2s 53ms/step - loss: 0.2424 - accuracy: 0.9045\n",
      "Epoch 23/30\n",
      "36/36 [==============================] - 2s 55ms/step - loss: 0.2140 - accuracy: 0.9224\n",
      "Epoch 24/30\n",
      "36/36 [==============================] - 2s 53ms/step - loss: 0.2022 - accuracy: 0.9349\n",
      "Epoch 25/30\n",
      "36/36 [==============================] - 2s 54ms/step - loss: 0.1567 - accuracy: 0.9411\n",
      "Epoch 26/30\n",
      "36/36 [==============================] - 2s 54ms/step - loss: 0.1563 - accuracy: 0.9402\n",
      "Epoch 27/30\n",
      "36/36 [==============================] - 2s 53ms/step - loss: 0.1269 - accuracy: 0.9536\n",
      "Epoch 28/30\n",
      "36/36 [==============================] - 2s 54ms/step - loss: 0.1444 - accuracy: 0.9509\n",
      "Epoch 29/30\n",
      "36/36 [==============================] - 2s 53ms/step - loss: 0.1284 - accuracy: 0.9527\n",
      "Epoch 30/30\n",
      "36/36 [==============================] - 2s 53ms/step - loss: 0.2123 - accuracy: 0.9144\n"
     ]
    },
    {
     "data": {
      "image/png": "[encoded data removed]",
      "text/plain": [
       "<Figure size 432x288 with 1 Axes>"
      ]
     },
     "metadata": {
      "needs_background": "light"
     },
     "output_type": "display_data"
    }
   ],
   "source": [
    "model.compile(optimizer='adam',\n",
    "              loss='sparse_categorical_crossentropy',\n",
    "              metrics=['accuracy'])\n",
    "\n",
    "history = model.fit(x_train, y_train, epochs = 30)\n",
    "\n",
    "acc = history.history[\"accuracy\"]\n",
    "loss = history.history[\"loss\"]\n",
    "epochs = range(1, len(acc) + 1)\n",
    "\n",
    "# epoch에 따른 정확도 시각화\n",
    "plt.plot(epochs, acc, 'bo', label=\"Training accuracy\")\n",
    "plt.plot(epochs, loss, 'ro', label=\"Training loss\")\n",
    "plt.xlabel(\"epochs\")\n",
    "plt.ylabel(\"score\")\n",
    "plt.show()"
   ]
  },
  {
   "cell_type": "markdown",
   "id": "aae045be",
   "metadata": {},
   "source": [
    "## 4. 모델 테스트"
   ]
  },
  {
   "cell_type": "code",
   "execution_count": 57,
   "id": "13707d1c",
   "metadata": {},
   "outputs": [
    {
     "name": "stdout",
     "output_type": "stream",
     "text": [
      "100  images to be resized.\n",
      "100  images resized.\n",
      "100  images to be resized.\n",
      "100  images resized.\n",
      "100  images to be resized.\n",
      "100  images resized.\n",
      "학습데이터(x_train)의 이미지 개수는 300 입니다.\n",
      "x_test shape: (1121, 32, 32, 3)\n",
      "y_test shape: (1121,)\n"
     ]
    }
   ],
   "source": [
    "image_dir_path = os.getenv(\"HOME\") + \"/aiffel/rock_scissor_paper/test/scissor\"\n",
    "resize_images(image_dir_path)\n",
    "\n",
    "image_dir_path = os.getenv(\"HOME\") + \"/aiffel/rock_scissor_paper/test/rock\"\n",
    "resize_images(image_dir_path)\n",
    "\n",
    "image_dir_path = os.getenv(\"HOME\") + \"/aiffel/rock_scissor_paper/test/paper\"\n",
    "resize_images(image_dir_path)\n",
    "\n",
    "image_dir_path = os.getenv(\"HOME\") + \"/aiffel/rock_scissor_paper/test\"\n",
    "(x_test, y_test)=load_data(image_dir_path)\n",
    "x_test_norm = x_test/255.0   # 입력은 0~1 사이의 값으로 정규화\n",
    "print(\"x_test shape: {}\".format(x_test.shape))\n",
    "print(\"y_test shape: {}\".format(y_test.shape))"
   ]
  },
  {
   "cell_type": "code",
   "execution_count": 58,
   "id": "f89e7d51",
   "metadata": {},
   "outputs": [
    {
     "name": "stdout",
     "output_type": "stream",
     "text": [
      "36/36 - 1s - loss: 0.8088 - accuracy: 0.8287\n",
      "test_loss: 0.8087611794471741 \n",
      "test_accuracy: 0.8287243247032166\n"
     ]
    }
   ],
   "source": [
    "test_loss, test_accuracy = model.evaluate(x_test, y_test, verbose=2)\n",
    "print(\"test_loss: {} \".format(test_loss))\n",
    "print(\"test_accuracy: {}\".format(test_accuracy))"
   ]
  },
  {
   "cell_type": "markdown",
   "id": "966f4b07",
   "metadata": {},
   "source": [
    "## 5. Pretrained Model 불러와서 성능 개선\n",
    "- resnet50 모델을 불러와 Fine-tuning 후 다시 확인합니다."
   ]
  },
  {
   "cell_type": "code",
   "execution_count": 63,
   "id": "04d2e49e",
   "metadata": {},
   "outputs": [
    {
     "name": "stdout",
     "output_type": "stream",
     "text": [
      "Epoch 1/30\n",
      "36/36 [==============================] - 8s 152ms/step - loss: 0.7958 - accuracy: 0.7886\n",
      "Epoch 2/30\n",
      "36/36 [==============================] - 5s 153ms/step - loss: 0.1953 - accuracy: 0.9358\n",
      "Epoch 3/30\n",
      "36/36 [==============================] - 5s 153ms/step - loss: 0.0979 - accuracy: 0.9706\n",
      "Epoch 4/30\n",
      "36/36 [==============================] - 6s 154ms/step - loss: 0.0553 - accuracy: 0.9804\n",
      "Epoch 5/30\n",
      "36/36 [==============================] - 5s 153ms/step - loss: 0.0400 - accuracy: 0.9875\n",
      "Epoch 6/30\n",
      "36/36 [==============================] - 5s 153ms/step - loss: 0.0310 - accuracy: 0.9884\n",
      "Epoch 7/30\n",
      "36/36 [==============================] - 5s 152ms/step - loss: 0.0342 - accuracy: 0.9902\n",
      "Epoch 8/30\n",
      "36/36 [==============================] - 5s 152ms/step - loss: 0.0280 - accuracy: 0.9938\n",
      "Epoch 9/30\n",
      "36/36 [==============================] - 6s 154ms/step - loss: 0.0618 - accuracy: 0.9777\n",
      "Epoch 10/30\n",
      "36/36 [==============================] - 5s 152ms/step - loss: 0.0280 - accuracy: 0.9911\n",
      "Epoch 11/30\n",
      "36/36 [==============================] - 5s 151ms/step - loss: 0.0375 - accuracy: 0.9875\n",
      "Epoch 12/30\n",
      "36/36 [==============================] - 5s 152ms/step - loss: 0.0258 - accuracy: 0.9920\n",
      "Epoch 13/30\n",
      "36/36 [==============================] - 6s 153ms/step - loss: 0.0222 - accuracy: 0.9929\n",
      "Epoch 14/30\n",
      "36/36 [==============================] - 5s 152ms/step - loss: 0.0201 - accuracy: 0.9955\n",
      "Epoch 15/30\n",
      "36/36 [==============================] - 5s 153ms/step - loss: 0.0134 - accuracy: 0.9946\n",
      "Epoch 16/30\n",
      "36/36 [==============================] - 5s 153ms/step - loss: 0.0081 - accuracy: 0.9973\n",
      "Epoch 17/30\n",
      "36/36 [==============================] - 5s 150ms/step - loss: 0.0192 - accuracy: 0.9929\n",
      "Epoch 18/30\n",
      "36/36 [==============================] - 6s 153ms/step - loss: 0.0113 - accuracy: 0.9964\n",
      "Epoch 19/30\n",
      "36/36 [==============================] - 5s 152ms/step - loss: 0.0046 - accuracy: 0.9991\n",
      "Epoch 20/30\n",
      "36/36 [==============================] - 6s 153ms/step - loss: 0.0117 - accuracy: 0.9973\n",
      "Epoch 21/30\n",
      "36/36 [==============================] - 5s 152ms/step - loss: 0.0034 - accuracy: 1.0000\n",
      "Epoch 22/30\n",
      "36/36 [==============================] - 6s 153ms/step - loss: 0.0061 - accuracy: 0.9982\n",
      "Epoch 23/30\n",
      "36/36 [==============================] - 5s 152ms/step - loss: 0.0032 - accuracy: 0.9991\n",
      "Epoch 24/30\n",
      "36/36 [==============================] - 5s 152ms/step - loss: 0.0032 - accuracy: 1.0000\n",
      "Epoch 25/30\n",
      "36/36 [==============================] - 6s 154ms/step - loss: 0.0021 - accuracy: 1.0000\n",
      "Epoch 26/30\n",
      "36/36 [==============================] - 5s 152ms/step - loss: 0.0016 - accuracy: 1.0000\n",
      "Epoch 27/30\n",
      "36/36 [==============================] - 6s 153ms/step - loss: 0.0022 - accuracy: 1.0000\n",
      "Epoch 28/30\n",
      "36/36 [==============================] - 5s 151ms/step - loss: 0.0047 - accuracy: 0.9982\n",
      "Epoch 29/30\n",
      "36/36 [==============================] - 6s 153ms/step - loss: 0.0039 - accuracy: 0.9991\n",
      "Epoch 30/30\n",
      "36/36 [==============================] - 5s 152ms/step - loss: 0.0068 - accuracy: 0.9973\n"
     ]
    },
    {
     "data": {
      "image/png": "[encoded data removed]",
      "text/plain": [
       "<Figure size 432x288 with 1 Axes>"
      ]
     },
     "metadata": {
      "needs_background": "light"
     },
     "output_type": "display_data"
    }
   ],
   "source": [
    "import tensorflow as tf\n",
    "from tensorflow.keras import layers, models, optimizers\n",
    "from tensorflow.keras.applications import ResNet50\n",
    "from tensorflow.keras.callbacks import EarlyStopping\n",
    "\n",
    "# 기존 ResNet 모델 불러오기\n",
    "resnet_base = ResNet50(weights='imagenet', include_top=False, input_shape=(32, 32, 3))\n",
    "\n",
    "# 새로운 Fully Connected 레이어 추가\n",
    "x = layers.Flatten()(resnet_base.output)\n",
    "x = layers.Dense(256, activation='relu')(x)\n",
    "x = layers.Dropout(0.5)(x)\n",
    "output = layers.Dense(3, activation='softmax')(x)\n",
    "\n",
    "# 새로운 모델 정의\n",
    "model = models.Model(inputs=resnet_base.input, outputs=output)\n",
    "\n",
    "# 기존 ResNet 레이어는 학습을 하지 않도록 설정\n",
    "for layer in resnet_base.layers:\n",
    "    layer.trainable = False\n",
    "\n",
    "# 모델 컴파일\n",
    "model.compile(optimizer='adam',\n",
    "              loss='sparse_categorical_crossentropy',\n",
    "              metrics=['accuracy'])\n",
    "\n",
    "early_stopping = EarlyStopping(monitor='accuracy', patience=5)\n",
    "\n",
    "history = model.fit(x_train, y_train, epochs=30, callbacks=[early_stopping])\n",
    "\n",
    "acc = history.history[\"accuracy\"]\n",
    "epochs = range(1, len(acc) + 1)\n",
    "\n",
    "# epoch에 따른 정확도 시각화\n",
    "plt.plot(epochs, acc, 'bo', label=\"Training accuracy\")\n",
    "plt.xlabel(\"epochs\")\n",
    "plt.ylabel(\"accuracy\")\n",
    "plt.show()"
   ]
  },
  {
   "cell_type": "code",
   "execution_count": 66,
   "id": "409cd66d",
   "metadata": {},
   "outputs": [
    {
     "name": "stdout",
     "output_type": "stream",
     "text": [
      "Epoch 1/10\n",
      "36/36 [==============================] - 95s 2s/step - loss: 0.8450 - accuracy: 0.7966\n",
      "Epoch 2/10\n",
      "36/36 [==============================] - 90s 2s/step - loss: 0.1619 - accuracy: 0.9509\n",
      "Epoch 3/10\n",
      "36/36 [==============================] - 90s 2s/step - loss: 0.0831 - accuracy: 0.9706\n",
      "Epoch 4/10\n",
      "36/36 [==============================] - 89s 2s/step - loss: 0.0716 - accuracy: 0.9795\n",
      "Epoch 5/10\n",
      "36/36 [==============================] - 90s 3s/step - loss: 0.0521 - accuracy: 0.9822\n",
      "Epoch 6/10\n",
      "36/36 [==============================] - 89s 2s/step - loss: 0.0564 - accuracy: 0.9848\n",
      "Epoch 7/10\n",
      "36/36 [==============================] - 89s 2s/step - loss: 0.0383 - accuracy: 0.9857\n",
      "Epoch 8/10\n",
      "36/36 [==============================] - 89s 2s/step - loss: 0.0387 - accuracy: 0.9866\n",
      "Epoch 9/10\n",
      "36/36 [==============================] - 89s 2s/step - loss: 0.0727 - accuracy: 0.9866\n",
      "Epoch 10/10\n",
      "36/36 [==============================] - 89s 2s/step - loss: 0.0279 - accuracy: 0.9920\n"
     ]
    },
    {
     "data": {
      "image/png": "[encoded data removed]",
      "text/plain": [
       "<Figure size 432x288 with 1 Axes>"
      ]
     },
     "metadata": {
      "needs_background": "light"
     },
     "output_type": "display_data"
    }
   ],
   "source": [
    "# 새로운 레이어를 학습하기 위해 기존 ResNet 레이어들의 학습을 해제\n",
    "for layer in resnet_base.layers:\n",
    "    layer.trainable = True\n",
    "\n",
    "# 다시 모델 컴파일\n",
    "model.compile(optimizer=optimizers.Adam(learning_rate=0.0001),\n",
    "              loss='sparse_categorical_crossentropy',\n",
    "              metrics=['accuracy'])\n",
    "\n",
    "# 추가 학습 (Fine-tuning)\n",
    "model.fit(x_train, y_train, epochs=10)\n",
    "\n",
    "acc = history.history[\"accuracy\"]\n",
    "epochs = range(1, len(acc) + 1)\n",
    "\n",
    "# epoch에 따른 정확도 시각화\n",
    "plt.plot(epochs, acc, 'bo', label=\"Training accuracy\")\n",
    "plt.xlabel(\"epochs\")\n",
    "plt.ylabel(\"accuracy\")\n",
    "plt.show()"
   ]
  },
  {
   "cell_type": "code",
   "execution_count": 67,
   "id": "955949aa",
   "metadata": {},
   "outputs": [
    {
     "name": "stdout",
     "output_type": "stream",
     "text": [
      "36/36 - 6s - loss: 0.4755 - accuracy: 0.8724\n",
      "test_loss: 0.4755222797393799 \n",
      "test_accuracy: 0.8724353313446045\n"
     ]
    }
   ],
   "source": [
    "test_loss, test_accuracy = model.evaluate(x_test, y_test, verbose=2)\n",
    "print(\"test_loss: {} \".format(test_loss))\n",
    "print(\"test_accuracy: {}\".format(test_accuracy))"
   ]
  },
  {
   "cell_type": "markdown",
   "id": "d4c46546",
   "metadata": {},
   "source": [
    "## 모델 개선을 위해 진행한 것\n",
    "- 이미지 resize 크기 32 * 32로 확장 : 이미지의 픽셀이 너무 뭉개져서 성능이 낮아졌다고 판단 \n",
    "- 모델 Conv Layer 깊이 확장 및 필터 개수 증가 : 모델이 너무 단조로워서 UnderFitting이 되었다고 판단\n",
    "- Fully Connected Layer에 Dropout 레이어 추가 : 모델의 노드 수를 늘림에 따라 과적합이 발생하여 이를 줄이기 위해 Dropout layer를 추가\n",
    "- **전체적인 성능 : 0.21 -> 0.82로 향상시킬 수 있었습니다.**\n",
    "\n",
    "#### Pretrained Model을 활용하여 부족한 모델의 성능 끌어올리기\n",
    "- 사전 학습되어 있는 ResNet50 모델을 불러와서 Fully Connected Layer 부분만 Fine-Tuning 해주어 전이학습 시켰습니다.\n",
    "- Input shape을 맞춰주고 학습을 시켜주었습니다.\n",
    "- **향상된 성능 : 0.82 -> 0.87로 성능을 향상시킬 수 있었습니다.**\n",
    "\n",
    "\n",
    "\n",
    "##### 사용된 데이터\n",
    "- Train Dataset : C3 팀원의 데이터를 합쳐서 활용하였습니다.\n",
    "- Test Dataset : C4 팀의 데이터를 활용하여 검증에 활용하였습니다.\n",
    "\n",
    "## 회고\n",
    "- 이미지 데이터에 대한 별다른 전처리 과정을 거치지 않았기에 처음에는 매우 낮은 정확도를 보여주었습니다. \n",
    "- 만약 시간이 조금 더 있었다면, Histogram 평활화나 여러 다양한 방법을 적용하여 이에 대한 정확도를 비교해보았을 것 같습니다.\n",
    "- 뿐만 아니라, 데이터들의 도메인이나 배경이 너무 다르다 보니까 정확도가 조금 많이 낮게 나오지 않았나 생각합니다. \n",
    "- 따라서 BackGround Remover 기법을 활용하여 데이터를 전처리 하고 비교해보고 싶었습니다.\n",
    "\n",
    "## 관련 링크\n",
    "- [**Histogram Equlization**](https://3months.tistory.com/405)\n",
    "- [**BackGround Remover Github**](https://github.com/topics/background-removal)"
   ]
  }
 ],
 "metadata": {
  "kernelspec": {
   "display_name": "Python 3 (ipykernel)",
   "language": "python",
   "name": "python3"
  },
  "language_info": {
   "codemirror_mode": {
    "name": "ipython",
    "version": 3
   },
   "file_extension": ".py",
   "mimetype": "text/x-python",
   "name": "python",
   "nbconvert_exporter": "python",
   "pygments_lexer": "ipython3",
   "version": "3.9.7"
  }
 },
 "nbformat": 4,
 "nbformat_minor": 5
}
